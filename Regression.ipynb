{
  "nbformat": 4,
  "nbformat_minor": 0,
  "metadata": {
    "colab": {
      "provenance": [],
      "gpuType": "T4"
    },
    "kernelspec": {
      "name": "python3",
      "display_name": "Python 3"
    },
    "language_info": {
      "name": "python"
    },
    "accelerator": "GPU"
  },
  "cells": [
    {
      "cell_type": "code",
      "execution_count": null,
      "metadata": {
        "colab": {
          "base_uri": "https://localhost:8080/",
          "height": 36
        },
        "id": "cIFAdofUZAh3",
        "outputId": "24883bf7-1f4a-4a57-9603-806a61725258"
      },
      "outputs": [
        {
          "output_type": "execute_result",
          "data": {
            "text/plain": [
              "'2.2.1+cu121'"
            ],
            "application/vnd.google.colaboratory.intrinsic+json": {
              "type": "string"
            }
          },
          "metadata": {},
          "execution_count": 2
        }
      ],
      "source": [
        "#Import PyTorch and Matplotlib\n",
        "import torch\n",
        "from torch import nn\n",
        "import matplotlib.pyplot as plt\n",
        "\n",
        "#Check for pytorch version\n",
        "torch.__version__"
      ]
    },
    {
      "cell_type": "code",
      "source": [
        "#Setup device agnostic\n",
        "device = \"cuda\" if torch.cuda.is_available() else \"cpu\"\n",
        "print (f\"Using device: {device}\")"
      ],
      "metadata": {
        "colab": {
          "base_uri": "https://localhost:8080/"
        },
        "id": "jEbq02tRZdQo",
        "outputId": "2f657de7-ae7e-4d1d-a5cd-753a8f3709f7"
      },
      "execution_count": null,
      "outputs": [
        {
          "output_type": "stream",
          "name": "stdout",
          "text": [
            "Using device: cpu\n"
          ]
        }
      ]
    },
    {
      "cell_type": "markdown",
      "source": [
        "Data"
      ],
      "metadata": {
        "id": "DQUK-UCIZ7nN"
      }
    },
    {
      "cell_type": "code",
      "source": [
        "#Create some data using linear regression formular using y= weight * X + bias\n",
        "\n",
        "weight = 0.7\n",
        "bias = 0.3\n",
        "\n",
        "#Create range values\n",
        "start = 0\n",
        "end = 1\n",
        "step = 0.02\n",
        "\n",
        "#Create X and y (features and labels)\n",
        "X = torch.arange (start, end, step).unsqueeze (dim=1) #without unsqueeze, errors will pop up\n",
        "y = weight * X + bias\n",
        "X[:10], y[:10]"
      ],
      "metadata": {
        "colab": {
          "base_uri": "https://localhost:8080/"
        },
        "id": "TQHf4SLKaXMF",
        "outputId": "b9062c8b-ac85-4988-c6e0-09bf63e42f20"
      },
      "execution_count": null,
      "outputs": [
        {
          "output_type": "execute_result",
          "data": {
            "text/plain": [
              "(tensor([[0.0000],\n",
              "         [0.0200],\n",
              "         [0.0400],\n",
              "         [0.0600],\n",
              "         [0.0800],\n",
              "         [0.1000],\n",
              "         [0.1200],\n",
              "         [0.1400],\n",
              "         [0.1600],\n",
              "         [0.1800]]),\n",
              " tensor([[0.3000],\n",
              "         [0.3140],\n",
              "         [0.3280],\n",
              "         [0.3420],\n",
              "         [0.3560],\n",
              "         [0.3700],\n",
              "         [0.3840],\n",
              "         [0.3980],\n",
              "         [0.4120],\n",
              "         [0.4260]]))"
            ]
          },
          "metadata": {},
          "execution_count": 4
        }
      ]
    },
    {
      "cell_type": "code",
      "source": [
        "#Split data\n",
        "train_split = int(0.80 * len(X))\n",
        "X_train, y_train = X[:train_split], y[:train_split]\n",
        "X_test, y_test =X[train_split:], y[train_split:]\n",
        "len(X_train), len(y_train), len(X_test), len(y_test)"
      ],
      "metadata": {
        "colab": {
          "base_uri": "https://localhost:8080/"
        },
        "id": "xAf6PwtDbeO_",
        "outputId": "d97ed9ef-6d7f-48c9-c332-5da44791964c"
      },
      "execution_count": null,
      "outputs": [
        {
          "output_type": "execute_result",
          "data": {
            "text/plain": [
              "(40, 40, 10, 10)"
            ]
          },
          "metadata": {},
          "execution_count": 5
        }
      ]
    },
    {
      "cell_type": "code",
      "source": [
        "def plot_predictions(train_data=X_train,\n",
        "                     train_labels=y_train,\n",
        "                     test_data=X_test,\n",
        "                     test_labels=y_test,\n",
        "                     predictions=None):\n",
        "  \"\"\"\n",
        "  Plots training data, test data and compares predictions.\n",
        "  \"\"\"\n",
        "  plt.figure(figsize=(10, 7))\n",
        "\n",
        "  # Plot training data in blue\n",
        "  plt.scatter(train_data, train_labels, c=\"y\", s=10, label=\"Training data\")\n",
        "\n",
        "  # Plot test data in green\n",
        "  plt.scatter(test_data, test_labels, c=\"g\", s=10, label=\"Testing data\")\n",
        "\n",
        "  if predictions is not None:\n",
        "    # Plot the predictions in red (predictions were made on the test data)\n",
        "    plt.scatter(test_data, predictions, c=\"r\", s=4, label=\"Predictions\")\n",
        "\n",
        "  # Show the legend\n",
        "  plt.legend(prop={\"size\": 14});"
      ],
      "metadata": {
        "id": "aG1BnMjKhdNI"
      },
      "execution_count": null,
      "outputs": []
    },
    {
      "cell_type": "code",
      "source": [
        "#Plot data\n",
        "#Note: If you don't have the plot prediction function, this will error\n",
        "\n",
        "plot_predictions(X_train, y_train, X_test, y_test)"
      ],
      "metadata": {
        "colab": {
          "base_uri": "https://localhost:8080/",
          "height": 599
        },
        "id": "1y8v5hAsgAWJ",
        "outputId": "e1446008-0485-40eb-a412-52b3f4b76bbc"
      },
      "execution_count": null,
      "outputs": [
        {
          "output_type": "display_data",
          "data": {
            "text/plain": [
              "<Figure size 1000x700 with 1 Axes>"
            ],
            "image/png": "[encoded data removed]"
          },
          "metadata": {}
        }
      ]
    },
    {
      "cell_type": "markdown",
      "source": [
        "Building a pytorch model"
      ],
      "metadata": {
        "id": "C-VYudMUg7wj"
      }
    },
    {
      "cell_type": "code",
      "source": [
        "#Create linear model by subclassing nn.Module\n",
        "class LinearRegressionModuleV2(nn.Module):\n",
        "  def __init__(self):\n",
        "    super().__init__()\n",
        "    #Use nn.Linear() for creating the model parameters\n",
        "    self.linear_layer = nn.Linear(in_features=1,\n",
        "                                  out_features=1)\n",
        "\n",
        "  def forward(self, x: torch.Tensor) -> torch.Tensor:\n",
        "      return self.linear_layer(x)\n",
        "\n",
        "#Set manual seed\n",
        "torch.manual_seed(47)\n",
        "model_1 = LinearRegressionModuleV2()\n",
        "model_1, model_1.state_dict()"
      ],
      "metadata": {
        "colab": {
          "base_uri": "https://localhost:8080/"
        },
        "id": "Q-Bj9vCZiM9r",
        "outputId": "e7d338f4-42fa-4011-a98f-f8b3a7d9d23c"
      },
      "execution_count": null,
      "outputs": [
        {
          "output_type": "execute_result",
          "data": {
            "text/plain": [
              "(LinearRegressionModuleV2(\n",
              "   (linear_layer): Linear(in_features=1, out_features=1, bias=True)\n",
              " ),\n",
              " OrderedDict([('linear_layer.weight', tensor([[-0.8939]])),\n",
              "              ('linear_layer.bias', tensor([-0.9002]))]))"
            ]
          },
          "metadata": {},
          "execution_count": 14
        }
      ]
    },
    {
      "cell_type": "code",
      "source": [
        "X_train[:3], y_train[:3]# Just to print out X and y values"
      ],
      "metadata": {
        "colab": {
          "base_uri": "https://localhost:8080/"
        },
        "id": "nYfoupqGnNpr",
        "outputId": "d5097f8f-7e57-480e-90c0-3556d9d6fac6"
      },
      "execution_count": null,
      "outputs": [
        {
          "output_type": "execute_result",
          "data": {
            "text/plain": [
              "(tensor([[0.0000],\n",
              "         [0.0200],\n",
              "         [0.0400]]),\n",
              " tensor([[0.3000],\n",
              "         [0.3140],\n",
              "         [0.3280]]))"
            ]
          },
          "metadata": {},
          "execution_count": 54
        }
      ]
    },
    {
      "cell_type": "code",
      "source": [
        "#Check the model current device\n",
        "next(model_1.parameters()).device"
      ],
      "metadata": {
        "colab": {
          "base_uri": "https://localhost:8080/"
        },
        "id": "nGeWah5_TPmC",
        "outputId": "ecace1cf-a406-4f45-9c11-17731f8c5e56"
      },
      "execution_count": null,
      "outputs": [
        {
          "output_type": "execute_result",
          "data": {
            "text/plain": [
              "device(type='cpu')"
            ]
          },
          "metadata": {},
          "execution_count": 32
        }
      ]
    },
    {
      "cell_type": "code",
      "source": [
        "#Set the model to use the target device\n",
        "model_1.to(device)#.to sends the parameter to the GPU memory that is if GPU is available else it send it to CPU\n",
        "next(model_1.parameters()).device"
      ],
      "metadata": {
        "colab": {
          "base_uri": "https://localhost:8080/"
        },
        "id": "sdTjGAu4WGfi",
        "outputId": "19d9778f-c711-49e6-a554-3489450ab594"
      },
      "execution_count": null,
      "outputs": [
        {
          "output_type": "execute_result",
          "data": {
            "text/plain": [
              "device(type='cpu')"
            ]
          },
          "metadata": {},
          "execution_count": 33
        }
      ]
    },
    {
      "cell_type": "markdown",
      "source": [
        "#Training our data\n",
        "\n",
        "We need the following:\n",
        "\n",
        "*Loss function\n",
        "*Optimiser\n",
        "*Training loop\n",
        "*Testing loop"
      ],
      "metadata": {
        "id": "a6r1NhJyWdx_"
      }
    },
    {
      "cell_type": "code",
      "source": [
        "#Set loss function\n",
        "loss_fn = nn.L1Loss() #Same as Mean Absolute Error(MAE)\n",
        "\n",
        "#Set our optimiser\n",
        "optimiser = torch.optim.SGD(params=model_1.parameters(), #SDG stands for Socastic Gradient Descent.\n",
        "                            lr=0.01)  #lr is Learning Rate. The higher the value the faster the lr and vice versa.\n",
        "\n",
        "#Write a training loop\n",
        "torch.manual_seed(47)\n",
        "\n",
        "epochs = 200\n",
        "\n",
        "#Put data on target device (device agnostic code for data)\n",
        "X_train = X_train.to(device)\n",
        "y_train = y_train.to(device)\n",
        "X_test = X_test.to(device)\n",
        "y_test = y_test.to(device)\n",
        "\n",
        "for epoch in range(epochs):\n",
        "  model_1.train()\n",
        "\n",
        "  #1. Forward pass\n",
        "  y_pred = model_1(X_train)\n",
        "\n",
        "  #2. Calculate loss\n",
        "  loss = loss_fn(y_pred, y_train)\n",
        "\n",
        "  #3. Optimise zero grad\n",
        "  optimiser.zero_grad()\n",
        "\n",
        "  #4. Perform backpropagation\n",
        "  loss.backward()\n",
        "\n",
        "  #5. Optimse step\n",
        "  optimiser.step()\n",
        "\n",
        "  ###Testing\n",
        "  model_1.eval()\n",
        "  with torch.inference_mode():\n",
        "    test_pred = model_1(X_test) #Forward pass\n",
        "\n",
        "    test_loss = loss_fn(test_pred, y_test) #Calculate loss\n",
        "\n",
        "  #Print out what's happening\n",
        "\n",
        "  if epoch % 10 == 0:\n",
        "    print(f\"Epoch: {epoch} | Loss: {loss} | Test loss: {test_loss}\")"
      ],
      "metadata": {
        "colab": {
          "base_uri": "https://localhost:8080/"
        },
        "id": "2-Yf2BKTXD3S",
        "outputId": "7163e911-573c-4688-e6a0-a05df6da576d"
      },
      "execution_count": null,
      "outputs": [
        {
          "output_type": "stream",
          "name": "stdout",
          "text": [
            "Epoch: 0 | Loss: 0.17460304498672485 | Test loss: 0.4494878649711609\n",
            "Epoch: 10 | Loss: 0.1699911504983902 | Test loss: 0.42834219336509705\n",
            "Epoch: 20 | Loss: 0.1659911423921585 | Test loss: 0.41054219007492065\n",
            "Epoch: 30 | Loss: 0.1621309518814087 | Test loss: 0.39477625489234924\n",
            "Epoch: 40 | Loss: 0.15864093601703644 | Test loss: 0.38375648856163025\n",
            "Epoch: 50 | Loss: 0.15515092015266418 | Test loss: 0.37273675203323364\n",
            "Epoch: 60 | Loss: 0.15166090428829193 | Test loss: 0.3617169260978699\n",
            "Epoch: 70 | Loss: 0.14817090332508087 | Test loss: 0.35069718956947327\n",
            "Epoch: 80 | Loss: 0.14468088746070862 | Test loss: 0.3396774232387543\n",
            "Epoch: 90 | Loss: 0.14120368659496307 | Test loss: 0.3293445110321045\n",
            "Epoch: 100 | Loss: 0.1377648562192917 | Test loss: 0.32107222080230713\n",
            "Epoch: 110 | Loss: 0.1343347728252411 | Test loss: 0.3134867250919342\n",
            "Epoch: 120 | Loss: 0.1309000551700592 | Test loss: 0.30521443486213684\n",
            "Epoch: 130 | Loss: 0.127461239695549 | Test loss: 0.2969421446323395\n",
            "Epoch: 140 | Loss: 0.12403281033039093 | Test loss: 0.28935664892196655\n",
            "Epoch: 150 | Loss: 0.12059645354747772 | Test loss: 0.2810843586921692\n",
            "Epoch: 160 | Loss: 0.11715929210186005 | Test loss: 0.27349892258644104\n",
            "Epoch: 170 | Loss: 0.11373083293437958 | Test loss: 0.2652266323566437\n",
            "Epoch: 180 | Loss: 0.11029283702373505 | Test loss: 0.2569543421268463\n",
            "Epoch: 190 | Loss: 0.10685734450817108 | Test loss: 0.24936887621879578\n"
          ]
        }
      ]
    },
    {
      "cell_type": "code",
      "source": [
        "#Evaluate model\n",
        "model_1.state_dict()"
      ],
      "metadata": {
        "colab": {
          "base_uri": "https://localhost:8080/"
        },
        "id": "JLOIlJYvZB2H",
        "outputId": "7ca17fc7-e5a4-4c5b-bd6d-9fae8ad10527"
      },
      "execution_count": null,
      "outputs": [
        {
          "output_type": "execute_result",
          "data": {
            "text/plain": [
              "OrderedDict([('linear_layer.weight', tensor([[0.6954]])),\n",
              "             ('linear_layer.bias', tensor([0.3093]))])"
            ]
          },
          "metadata": {},
          "execution_count": 62
        }
      ]
    },
    {
      "cell_type": "code",
      "source": [
        "weight, bias"
      ],
      "metadata": {
        "colab": {
          "base_uri": "https://localhost:8080/"
        },
        "id": "NvdF_52Nd7KI",
        "outputId": "e7998e1b-286d-4e3f-b366-bb66e72c17c6"
      },
      "execution_count": null,
      "outputs": [
        {
          "output_type": "execute_result",
          "data": {
            "text/plain": [
              "(0.7, 0.3)"
            ]
          },
          "metadata": {},
          "execution_count": 42
        }
      ]
    },
    {
      "cell_type": "markdown",
      "source": [
        "###Make and evaluate predictions and plot"
      ],
      "metadata": {
        "id": "Pktmsn8HeUs1"
      }
    },
    {
      "cell_type": "code",
      "source": [
        "#Turn model into evaluation mode\n",
        "model_1.eval()\n",
        "\n",
        "#Make predictions on the test data\n",
        "with torch.inference_mode():\n",
        "  y_preds = model_1(X_test)\n",
        "y_preds"
      ],
      "metadata": {
        "colab": {
          "base_uri": "https://localhost:8080/"
        },
        "id": "RY5_zfngfiog",
        "outputId": "24de756b-8d62-4895-f95c-95953b441753"
      },
      "execution_count": null,
      "outputs": [
        {
          "output_type": "execute_result",
          "data": {
            "text/plain": [
              "tensor([[0.6641],\n",
              "        [0.6678],\n",
              "        [0.6715],\n",
              "        [0.6752],\n",
              "        [0.6789],\n",
              "        [0.6827],\n",
              "        [0.6864],\n",
              "        [0.6901],\n",
              "        [0.6938],\n",
              "        [0.6975]])"
            ]
          },
          "metadata": {},
          "execution_count": 52
        }
      ]
    },
    {
      "cell_type": "code",
      "source": [
        "#Visualise our model predictions\n",
        "plot_predictions(predictions=y_preds.cpu())"
      ],
      "metadata": {
        "colab": {
          "base_uri": "https://localhost:8080/",
          "height": 599
        },
        "id": "krFx_URMgCZL",
        "outputId": "a92b54b7-12c7-4147-817e-39c35b13c70c"
      },
      "execution_count": null,
      "outputs": [
        {
          "output_type": "display_data",
          "data": {
            "text/plain": [
              "<Figure size 1000x700 with 1 Axes>"
            ],
            "image/png": "[encoded data removed]"
          },
          "metadata": {}
        }
      ]
    },
    {
      "cell_type": "code",
      "source": [
        "model_1.state_dict()"
      ],
      "metadata": {
        "colab": {
          "base_uri": "https://localhost:8080/"
        },
        "id": "JazxpUv2jI0K",
        "outputId": "cb1f2434-3c4b-48d0-a17a-a5bd3ef67cf0"
      },
      "execution_count": null,
      "outputs": [
        {
          "output_type": "execute_result",
          "data": {
            "text/plain": [
              "OrderedDict([('linear_layer.weight', tensor([[0.6954]])),\n",
              "             ('linear_layer.bias', tensor([0.3093]))])"
            ]
          },
          "metadata": {},
          "execution_count": 64
        }
      ]
    },
    {
      "cell_type": "code",
      "source": [
        "weight, bias"
      ],
      "metadata": {
        "colab": {
          "base_uri": "https://localhost:8080/"
        },
        "id": "P5TlWFLfjVQu",
        "outputId": "d38c21af-fbe5-4f70-f042-fa8517b1b32d"
      },
      "execution_count": null,
      "outputs": [
        {
          "output_type": "execute_result",
          "data": {
            "text/plain": [
              "(0.7, 0.3)"
            ]
          },
          "metadata": {},
          "execution_count": 65
        }
      ]
    },
    {
      "cell_type": "code",
      "source": [
        "#Turn model into evaluation mode\n",
        "model_1.eval()\n",
        "\n",
        "#Make predictions on the test data\n",
        "with torch.inference_mode():\n",
        "  y_preds = model_1(X_test)\n",
        "y_preds"
      ],
      "metadata": {
        "colab": {
          "base_uri": "https://localhost:8080/"
        },
        "id": "iLKMtuXUjgey",
        "outputId": "6bc86203-95db-4604-da07-726a706676b9"
      },
      "execution_count": null,
      "outputs": [
        {
          "output_type": "execute_result",
          "data": {
            "text/plain": [
              "tensor([[0.8656],\n",
              "        [0.8795],\n",
              "        [0.8934],\n",
              "        [0.9073],\n",
              "        [0.9213],\n",
              "        [0.9352],\n",
              "        [0.9491],\n",
              "        [0.9630],\n",
              "        [0.9769],\n",
              "        [0.9908]])"
            ]
          },
          "metadata": {},
          "execution_count": 66
        }
      ]
    },
    {
      "cell_type": "code",
      "source": [
        "plot_predictions(predictions=y_preds)"
      ],
      "metadata": {
        "colab": {
          "base_uri": "https://localhost:8080/",
          "height": 599
        },
        "id": "g0wG5lq7jn7c",
        "outputId": "ef47edf2-91b5-4526-957e-f2016d3b918a"
      },
      "execution_count": null,
      "outputs": [
        {
          "output_type": "display_data",
          "data": {
            "text/plain": [
              "<Figure size 1000x700 with 1 Axes>"
            ],
            "image/png": "[encoded data removed]"
          },
          "metadata": {}
        }
      ]
    },
    {
      "cell_type": "markdown",
      "source": [
        "#Saving and loading a trained model"
      ],
      "metadata": {
        "id": "yMk6E548gvfD"
      }
    },
    {
      "cell_type": "code",
      "source": [
        "from pathlib import Path\n",
        "\n",
        "#Create models directory\n",
        "\n"
      ],
      "metadata": {
        "id": "xyYaM4KpkUPn"
      },
      "execution_count": null,
      "outputs": []
    },
    {
      "cell_type": "code",
      "source": [
        "from google.colab import drive\n",
        "drive.mount('/content/drive')"
      ],
      "metadata": {
        "id": "ifnvreHRkxcs"
      },
      "execution_count": null,
      "outputs": []
    }
  ]
}